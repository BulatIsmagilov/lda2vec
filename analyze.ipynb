{
 "cells": [
  {
   "cell_type": "code",
   "execution_count": 1,
   "metadata": {},
   "outputs": [
    {
     "name": "stderr",
     "output_type": "stream",
     "text": [
      "/Users/ismglv/anaconda3/lib/python3.6/site-packages/ggplot/utils.py:81: FutureWarning: pandas.tslib is deprecated and will be removed in a future version.\n",
      "You can access Timestamp as pandas.Timestamp\n",
      "  pd.tslib.Timestamp,\n",
      "/Users/ismglv/anaconda3/lib/python3.6/site-packages/ggplot/stats/smoothers.py:4: FutureWarning: The pandas.lib module is deprecated and will be removed in a future version. These are private functions and can be accessed from pandas._libs.lib instead\n",
      "  from pandas.lib import Timestamp\n",
      "/Users/ismglv/anaconda3/lib/python3.6/site-packages/statsmodels/compat/pandas.py:56: FutureWarning: The pandas.core.datetools module is deprecated and will be removed in a future version. Please use the pandas.tseries module instead.\n",
      "  from pandas.core import datetools\n"
     ]
    }
   ],
   "source": [
    "import gensim\n",
    "import numpy as np\n",
    "import pandas as pd\n",
    "from IPython import embed\n",
    "\n",
    "from ggplot import *\n",
    "import json\n",
    "import logging\n",
    "import matplotlib as mpl\n",
    "import matplotlib.pyplot as plt\n",
    "import os\n",
    "import pyLDAvis.gensim\n",
    "import seaborn as sns\n",
    "import warnings\n",
    "import pickle\n",
    "import model_visualization\n",
    "from gensim.models import CoherenceModel, HdpModel\n",
    "\n",
    "%matplotlib inline\n",
    "pyLDAvis.enable_notebook()\n",
    "\n",
    "#pd.options.display.max_rows = 10"
   ]
  },
  {
   "cell_type": "code",
   "execution_count": null,
   "metadata": {},
   "outputs": [],
   "source": [
    "with open('text_corpus_id2word_fulldata.pkl', 'rb') as handle:\n",
    "   texts, id2word, corpus, full_data = pickle.load(handle)\n",
    "#  texts, id2word, corpus, full_data = generate_corpus.generate_corpus()\n",
    "# embed()\n",
    "\n",
    "# View\n",
    "print(corpus[:1])\n",
    "\n",
    "# Human readable format of corpus (term-frequency)\n",
    "[[(id2word[id], freq) for id, freq in cp] for cp in corpus[:1]]\n",
    "\n",
    "\n",
    "ldamallet =  gensim.models.wrappers.LdaMallet.load('lda.model')\n",
    "# mallet_path = '/Users/ismglv/dev/lda2vec/mallet/bin/mallet' # update this path\n",
    "# ldamallet = gensim.models.wrappers.LdaMallet(mallet_path, corpus=corpus, num_topics=60, id2word=id2word)\n",
    "# # coherence_model = CoherenceModel(model=ldamallet, texts=texts, dictionary=id2word, coherence='c_v')\n",
    "# coherence = coherence_model.get_coherence()\n",
    "# print('\\nCoherence Score: ', coherence)\n",
    "\n",
    "dictionary = texts\n",
    "\n",
    "df_topic_sents_keywords = model_visualization.format_topics_sentences(ldamallet, corpus, dictionary)\n",
    "\n",
    "df_dominant_topic = df_topic_sents_keywords.reset_index()\n",
    "df_dominant_topic.columns = ['doc_id', 'dom_topic', 'topic_weight', 'topic_words', 'Text']\n",
    "\n",
    "\n",
    "\n",
    "# to get doc topics df_dominant_topic['Keywords'][doc_num]\n",
    "# to get doc topics dominant quality df_dominant_topic['Dominant_Topic'][doc_num]\n",
    "\n",
    "#Find the most representative document for each topic\n",
    "\n",
    "# Number of Documents for Each Topic\n",
    "topic_counts = df_topic_sents_keywords['dom_topic'].value_counts()\n",
    "\n",
    "# Percentage of Documents for Each Topic\n",
    "topic_contribution = round(topic_counts/topic_counts.sum(), 4)\n",
    "\n",
    "# Topic Number and Keywords\n",
    "topic_num_keywords = df_topic_sents_keywords[['dom_topic', 'topic_words']]\n",
    "\n",
    "# Concatenate Column wise\n",
    "df_dominant_topics = pd.concat([topic_num_keywords, topic_counts, topic_contribution], axis=1)\n",
    "\n",
    "# Change Column names\n",
    "df_dominant_topics.columns = ['dom_topic', 'topic_words', 'Num_Documents', 'Perc_Documents']\n",
    "\n",
    "# Show\n",
    "df_dominant_topics\n",
    "\n",
    "#pyLDAvis.gensim.prepare(model, corpus, id2word)\n",
    "\n",
    "data = pd.merge(full_data, df_dominant_topic, left_index=True, right_index=True)\n",
    "\n",
    "arrays_of_data = {}\n",
    "data_values = data.values\n",
    "for d in data_values:\n",
    "    if d[7] in arrays_of_data:\n",
    "        arrays_of_data[d[7]].append(d)\n",
    "    else:\n",
    "        arrays_of_data[d[7]] = []\n",
    "        arrays_of_data[d[7]].append(d)\n",
    "\n",
    "counter = 0\n",
    "part = []\n",
    "parted_data = []\n",
    "for i in arrays_of_data:\n",
    "    if counter == 9:\n",
    "        part.append(arrays_of_data[i])\n",
    "        parted_data.append(part)\n",
    "        counter = 0\n",
    "        part = []\n",
    "    else:\n",
    "        part.append(arrays_of_data[i])\n",
    "        counter += 1\n",
    "\n",
    "def merged_list(lists):\n",
    "    merged_list = []\n",
    "\n",
    "    for l in lists:\n",
    "        merged_list += l\n",
    "    return merged_list\n",
    "parts = []\n",
    "\n",
    "for i in parted_data:\n",
    "    parts.append(merged_list(i))\n",
    "    \n",
    "    \n",
    "def group_topics_by_date(data):\n",
    "    topics = {}\n",
    "    for topic in data:\n",
    "        if topic[3] in topics:\n",
    "            topics[topic[3]].append(topic)\n",
    "        else:\n",
    "            topics[topic[3]] = []\n",
    "            topics[topic[3]].append(topic)\n",
    "    return topics\n",
    "\n",
    "def group_topics_by_topic(data):\n",
    "    topics = {}\n",
    "    for topic in data:\n",
    "        if topic[7] in topics:\n",
    "            topics[topic[7]].append(topic)\n",
    "        else:\n",
    "            topics[topic[7]] = []\n",
    "            topics[topic[7]].append(topic)\n",
    "    return topics\n",
    "\n",
    "def get_avg_of_topic(topics):\n",
    "    sum = 0\n",
    "    for topic in topics:\n",
    "        sum += topic[6]\n",
    "    return round(sum / len(topics), 3)\n",
    "\n",
    "def get_key(dict):\n",
    "    return list(dict.keys())[0]\n",
    "\n",
    "def get_value(dict):\n",
    "    return list(dict.values())[0]\n",
    "\n",
    "def get_graph_data(data):\n",
    "    result = {\"2017-02\": [], \"2017-03\": [], \"2017-04\": [], \"2017-05\": [], \"2017-06\": [], \"2017-07\": [], \"2017-08\": []}\n",
    "    topics_by_date = group_topics_by_date(data)\n",
    "    for topic in topics_by_date:\n",
    "        topics = topics_by_date[topic]\n",
    "        for t in topics:\n",
    "            sorted_by_topic = group_topics_by_topic(topics)\n",
    "            print(topic)\n",
    "            print(result[topic])\n",
    "            print(t[7])\n",
    "            print(sorted_by_topic[t[7]])\n",
    "            result[topic].append({t[7]: get_avg_of_topic(sorted_by_topic[t[7]])})       \n",
    "    return result   \n",
    "a = get_graph_data(parts[0])\n",
    "\n",
    "def get_all_topics(data):\n",
    "    all_topics = []\n",
    "    for i in data:\n",
    "        all_topics.append(i[7])\n",
    "    return np.unique(all_topics)\n",
    "\n",
    "def get_avg_weitght_for(topic, data):\n",
    "    for t in data:\n",
    "        if get_key(t) == topic:\n",
    "            return get_value(t)\n",
    "    return 0\n",
    "\n",
    "def get_all_avg_weights_for(topic, data):\n",
    "    avg_weights = []\n",
    "    for date in data:\n",
    "        avg_weights.append(get_avg_weitght_for(topic, data[date]))\n",
    "    return avg_weights\n",
    "\n",
    "\n",
    "model = gensim.models.wrappers.ldamallet.malletmodel2ldamodel(ldamallet)"
   ]
  },
  {
   "cell_type": "code",
   "execution_count": 11,
   "metadata": {},
   "outputs": [],
   "source": [
    "cols = ['filename', 'words', 'date', 'date_short', 'doc_id', 'dom_topic',\n",
    "       'topic_weight', 'topic_words', 'Text']\n",
    "test = pd.DataFrame(parts[0], columns=cols)"
   ]
  },
  {
   "cell_type": "code",
   "execution_count": 13,
   "metadata": {},
   "outputs": [],
   "source": [
    "test = test.groupby([\"date_short\", \"topic_words\"]).mean()\n",
    "test.drop(columns=[\"doc_id\", \"dom_topic\"])"
   ]
  },
  {
   "cell_type": "code",
   "execution_count": null,
   "metadata": {},
   "outputs": [],
   "source": [
    "dates = [\"2017-02\", \"2017-03\", \"2017-04\", \"2017-05\", \"2017-06\", \"2017-07\", \"2017-08\"]\n"
   ]
  },
  {
   "cell_type": "code",
   "execution_count": 227,
   "metadata": {},
   "outputs": [],
   "source": [
    "test10 = get_all_avg_weights_for('brexit, vote, leave, referendum, people, britain, british, remain, voter, year', a)"
   ]
  },
  {
   "cell_type": "code",
   "execution_count": 229,
   "metadata": {},
   "outputs": [
    {
     "data": {
      "text/plain": [
       "[0.195, 0.223, 0.171, 0.087, 0.169, 0.15, 0.189]"
      ]
     },
     "execution_count": 229,
     "metadata": {},
     "output_type": "execute_result"
    }
   ],
   "source": [
    "test10"
   ]
  },
  {
   "cell_type": "code",
   "execution_count": 230,
   "metadata": {},
   "outputs": [
    {
     "ename": "SyntaxError",
     "evalue": "invalid syntax (<ipython-input-230-b07edc83796e>, line 7)",
     "output_type": "error",
     "traceback": [
      "\u001b[0;36m  File \u001b[0;32m\"<ipython-input-230-b07edc83796e>\"\u001b[0;36m, line \u001b[0;32m7\u001b[0m\n\u001b[0;31m    df=pd.DataFrame({'x': dates, 'y1': , 'y2': topics2 })\u001b[0m\n\u001b[0m                                       ^\u001b[0m\n\u001b[0;31mSyntaxError\u001b[0m\u001b[0;31m:\u001b[0m invalid syntax\n"
     ]
    }
   ],
   "source": [
    "# libraries and data\n",
    "import matplotlib.pyplot as plt\n",
    "import numpy as np\n",
    "import pandas as pd\n",
    " \n",
    "# Make a data frame\n",
    "df=pd.DataFrame({'x': dates, 'y1': , 'y2': topics2 })\n",
    "# style\n",
    "plt.style.use('seaborn-darkgrid')\n",
    " \n",
    "# create a color palette\n",
    "palette = plt.get_cmap('Set1')\n",
    " \n",
    "# multiple line plot\n",
    "num=0\n",
    "for column in df.drop('x', axis=1):\n",
    "    num+=1\n",
    "    plt.plot(df['x'], df[cowlumn], marker='', color=palette(num), linewidth=1, alpha=0.9, label=column)\n",
    " \n",
    "# Add legend\n",
    "plt.legend(loc=2, ncol=2)\n",
    " \n",
    "# Add titles\n",
    "plt.title(\"A (bad) Spaghetti plot\", loc='left', fontsize=12, fontweight=0, color='orange')\n",
    "plt.xlabel(\"Time\")\n",
    "plt.ylabel(\"Score\")"
   ]
  },
  {
   "cell_type": "code",
   "execution_count": 190,
   "metadata": {},
   "outputs": [],
   "source": []
  },
  {
   "cell_type": "code",
   "execution_count": 206,
   "metadata": {},
   "outputs": [
    {
     "data": {
      "text/plain": [
       "array(['brexit, vote, leave, referendum, people, britain, british, remain, voter, year',\n",
       "       'good, make, eat, year, food, find, roll, time, great, thing',\n",
       "       'industry, cost, food, car, company, business, year, energy, product, sell',\n",
       "       'lord, house, government, bill, vote, parliament, brexit, amendment, common, peer',\n",
       "       'per_cent, year, bank, rise, price, fall, pound, month, growth, market',\n",
       "       'player, club, team, good, wenger, year, season, arsenal, game, football',\n",
       "       'prime_minister, london, part, theresa, day, britain, minister, end, people, british',\n",
       "       'scotland, referendum, scottish, independence, vote, snp, minister, government, brexit, nicola_sturgeon',\n",
       "       'trade, country, world, britain, british, free, global, china, good, economic',\n",
       "       'water, fish, year, britain, sea, climate, climate_change, catch, british, fishing'],\n",
       "      dtype='<U102')"
      ]
     },
     "execution_count": 206,
     "metadata": {},
     "output_type": "execute_result"
    }
   ],
   "source": [
    "get_all_topics(parts[0])"
   ]
  },
  {
   "cell_type": "code",
   "execution_count": 207,
   "metadata": {},
   "outputs": [
    {
     "ename": "AttributeError",
     "evalue": "'str' object has no attribute 'keys'",
     "output_type": "error",
     "traceback": [
      "\u001b[0;31m---------------------------------------------------------------------------\u001b[0m",
      "\u001b[0;31mAttributeError\u001b[0m                            Traceback (most recent call last)",
      "\u001b[0;32m<ipython-input-207-64f0ba7cbaa5>\u001b[0m in \u001b[0;36m<module>\u001b[0;34m()\u001b[0m\n\u001b[0;32m----> 1\u001b[0;31m \u001b[0mget_all_avg_weights_for\u001b[0m\u001b[0;34m(\u001b[0m\u001b[0;34m'brexit, vote, leave, referendum, people, britain, british, remain, voter, year'\u001b[0m\u001b[0;34m,\u001b[0m \u001b[0ma\u001b[0m\u001b[0;34m)\u001b[0m\u001b[0;34m\u001b[0m\u001b[0m\n\u001b[0m",
      "\u001b[0;32m<ipython-input-205-6f5c4a1a505f>\u001b[0m in \u001b[0;36mget_all_avg_weights_for\u001b[0;34m(topic, data)\u001b[0m\n\u001b[1;32m      2\u001b[0m     \u001b[0mavg_weights\u001b[0m \u001b[0;34m=\u001b[0m \u001b[0;34m[\u001b[0m\u001b[0;34m]\u001b[0m\u001b[0;34m\u001b[0m\u001b[0m\n\u001b[1;32m      3\u001b[0m     \u001b[0;32mfor\u001b[0m \u001b[0mtopics\u001b[0m \u001b[0;32min\u001b[0m \u001b[0mdata\u001b[0m\u001b[0;34m:\u001b[0m\u001b[0;34m\u001b[0m\u001b[0m\n\u001b[0;32m----> 4\u001b[0;31m         \u001b[0mavg_weights\u001b[0m\u001b[0;34m.\u001b[0m\u001b[0mappend\u001b[0m\u001b[0;34m(\u001b[0m\u001b[0mget_avg_weitght_for\u001b[0m\u001b[0;34m(\u001b[0m\u001b[0mtopics\u001b[0m\u001b[0;34m,\u001b[0m \u001b[0mtopic\u001b[0m\u001b[0;34m)\u001b[0m\u001b[0;34m)\u001b[0m\u001b[0;34m\u001b[0m\u001b[0m\n\u001b[0m",
      "\u001b[0;32m<ipython-input-202-d823dbb303fa>\u001b[0m in \u001b[0;36mget_avg_weitght_for\u001b[0;34m(topic, data)\u001b[0m\n\u001b[1;32m      7\u001b[0m \u001b[0;32mdef\u001b[0m \u001b[0mget_avg_weitght_for\u001b[0m\u001b[0;34m(\u001b[0m\u001b[0mtopic\u001b[0m\u001b[0;34m,\u001b[0m \u001b[0mdata\u001b[0m\u001b[0;34m)\u001b[0m\u001b[0;34m:\u001b[0m\u001b[0;34m\u001b[0m\u001b[0m\n\u001b[1;32m      8\u001b[0m     \u001b[0;32mfor\u001b[0m \u001b[0mt\u001b[0m \u001b[0;32min\u001b[0m \u001b[0mdata\u001b[0m\u001b[0;34m:\u001b[0m\u001b[0;34m\u001b[0m\u001b[0m\n\u001b[0;32m----> 9\u001b[0;31m         \u001b[0;32mif\u001b[0m \u001b[0mget_key\u001b[0m\u001b[0;34m(\u001b[0m\u001b[0mt\u001b[0m\u001b[0;34m)\u001b[0m \u001b[0;34m==\u001b[0m \u001b[0mtopic\u001b[0m\u001b[0;34m:\u001b[0m\u001b[0;34m\u001b[0m\u001b[0m\n\u001b[0m\u001b[1;32m     10\u001b[0m             \u001b[0;32mreturn\u001b[0m \u001b[0mget_value\u001b[0m\u001b[0;34m(\u001b[0m\u001b[0mt\u001b[0m\u001b[0;34m)\u001b[0m\u001b[0;34m\u001b[0m\u001b[0m\n\u001b[1;32m     11\u001b[0m     \u001b[0;32mreturn\u001b[0m \u001b[0;36m0\u001b[0m\u001b[0;34m\u001b[0m\u001b[0m\n",
      "\u001b[0;32m<ipython-input-182-f6f1e8549f1b>\u001b[0m in \u001b[0;36mget_key\u001b[0;34m(dict)\u001b[0m\n\u001b[1;32m      1\u001b[0m \u001b[0;32mdef\u001b[0m \u001b[0mget_key\u001b[0m\u001b[0;34m(\u001b[0m\u001b[0mdict\u001b[0m\u001b[0;34m)\u001b[0m\u001b[0;34m:\u001b[0m\u001b[0;34m\u001b[0m\u001b[0m\n\u001b[0;32m----> 2\u001b[0;31m     \u001b[0;32mreturn\u001b[0m \u001b[0mlist\u001b[0m\u001b[0;34m(\u001b[0m\u001b[0mdict\u001b[0m\u001b[0;34m.\u001b[0m\u001b[0mkeys\u001b[0m\u001b[0;34m(\u001b[0m\u001b[0;34m)\u001b[0m\u001b[0;34m)\u001b[0m\u001b[0;34m[\u001b[0m\u001b[0;36m0\u001b[0m\u001b[0;34m]\u001b[0m\u001b[0;34m\u001b[0m\u001b[0m\n\u001b[0m",
      "\u001b[0;31mAttributeError\u001b[0m: 'str' object has no attribute 'keys'"
     ]
    }
   ],
   "source": [
    "get_all_avg_weights_for('brexit, vote, leave, referendum, people, britain, british, remain, voter, year', a)"
   ]
  },
  {
   "cell_type": "code",
   "execution_count": null,
   "metadata": {},
   "outputs": [],
   "source": []
  }
 ],
 "metadata": {
  "kernelspec": {
   "display_name": "Python 3",
   "language": "python",
   "name": "python3"
  },
  "language_info": {
   "codemirror_mode": {
    "name": "ipython",
    "version": 3
   },
   "file_extension": ".py",
   "mimetype": "text/x-python",
   "name": "python",
   "nbconvert_exporter": "python",
   "pygments_lexer": "ipython3",
   "version": "3.6.5"
  }
 },
 "nbformat": 4,
 "nbformat_minor": 2
}
